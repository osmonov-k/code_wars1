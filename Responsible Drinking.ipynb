{
 "cells": [
  {
   "cell_type": "code",
   "execution_count": null,
   "metadata": {},
   "outputs": [],
   "source": [
    "# Kyu 7 \n",
    "# Responsible Drinking\n",
    "# https://www.codewars.com/kata/5aee86c5783bb432cd000018/solutions/python/all/best_practice"
   ]
  },
  {
   "cell_type": "code",
   "execution_count": null,
   "metadata": {},
   "outputs": [],
   "source": [
    "# solution 1\n",
    "def hydrate(drink_string): \n",
    "    lst = []\n",
    "    for x in drink_string:\n",
    "        if x.isdigit():\n",
    "            lst.append(int(x))\n",
    "    return f'{sum(lst)} glasses of water' if sum(lst) > 1 else f'{sum(lst)} glass of water' "
   ]
  },
  {
   "cell_type": "code",
   "execution_count": null,
   "metadata": {},
   "outputs": [],
   "source": [
    "# solution 2\n",
    "def hydrate(drink_string): \n",
    "    c = sum(int(c) for c in drink_string if c.isdigit())\n",
    "    return f'{c} glasses of water' if c > 1 else f'{c} glass of water'\n"
   ]
  },
  {
   "cell_type": "code",
   "execution_count": null,
   "metadata": {},
   "outputs": [],
   "source": [
    "# solution 3\n",
    "def hydrate(drink_string): \n",
    "    import re\n",
    "    n = sum(map(int,re.findall(r'\\d+',drink_string)))\n",
    "    return f\"{ n } glass{ 'es'*(n!=1) } of water\"\n"
   ]
  },
  {
   "cell_type": "code",
   "execution_count": null,
   "metadata": {},
   "outputs": [],
   "source": [
    "hydrate('1 dafsd')"
   ]
  },
  {
   "cell_type": "code",
   "execution_count": null,
   "metadata": {},
   "outputs": [],
   "source": []
  }
 ],
 "metadata": {
  "kernelspec": {
   "display_name": "Python 3.8.0 64-bit",
   "language": "python",
   "name": "python38064bita3e2b9284fe241009277b40c2dcf841c"
  },
  "language_info": {
   "codemirror_mode": {
    "name": "ipython",
    "version": 3
   },
   "file_extension": ".py",
   "mimetype": "text/x-python",
   "name": "python",
   "nbconvert_exporter": "python",
   "pygments_lexer": "ipython3",
   "version": "3.8.0"
  }
 },
 "nbformat": 4,
 "nbformat_minor": 4
}
