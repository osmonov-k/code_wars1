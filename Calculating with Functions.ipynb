{
 "cells": [
  {
   "cell_type": "markdown",
   "metadata": {},
   "source": [
    "# Calculating with Functions"
   ]
  },
  {
   "cell_type": "markdown",
   "metadata": {},
   "source": [
    "#### This time we want to write calculations using functions and get the results. Let's have a look at some examples:\n",
    "\n",
    "seven(times(five())) # must return 35\n",
    "four(plus(nine())) # must return 13\n",
    "eight(minus(three())) # must return 5\n",
    "six(divided_by(two())) # must return 3\n",
    "Requirements:\n",
    "\n",
    "There must be a function for each number from 0 (\"zero\") to 9 (\"nine\")\n",
    "There must be a function for each of the following mathematical operations: plus, minus, times, dividedBy (divided_by in Ruby and Python)\n",
    "Each calculation consist of exactly one operation and two numbers\n",
    "The most outer function represents the left operand, the most inner function represents the right operand\n",
    "Divison should be integer division. For example, this should return 2, not 2.666666...:\n",
    "eight(divided_by(three()))"
   ]
  },
  {
   "cell_type": "code",
   "execution_count": 1,
   "metadata": {},
   "outputs": [],
   "source": [
    "# If not function, then uses function from Step 2, otherwise returns itself\n",
    "zero = (lambda func=None: 0 if not func else exp(0, func))\n",
    "one = (lambda func=None: 1 if not func else exp(1, func))\n",
    "two = (lambda func=None: 2 if not func else exp(2, func))\n",
    "three = (lambda func=None: 3 if not func else exp(3, func))\n",
    "four = (lambda func=None: 4 if not func else exp(4, func))\n",
    "five = (lambda func=None: 5 if not func else exp(5, func))\n",
    "six = (lambda func=None: 6 if not func else exp(6, func))\n",
    "seven = (lambda func=None: 7 if not func else exp(7, func))\n",
    "eight = (lambda func=None: 8 if not func else exp(8, func))\n",
    "nine = (lambda func=None: 9 if not func else exp(9, func))\n",
    "\n",
    "# Calculation expressions\n",
    "plus = (lambda y, func='plus': [y, func])\n",
    "minus = (lambda y, func='minus': [y, func])\n",
    "times = (lambda y, func='times': [y, func])\n",
    "divided_by = (lambda y, func='divided': [y, func])    \n",
    "\n",
    "def exp(num_1, func):\n",
    "    '''Calculation conditional statements'''\n",
    "    if func[1] == 'plus':\n",
    "        return num_1+func[0]\n",
    "    if func[1] == 'minus':\n",
    "        return num_1-func[0]\n",
    "    if func[1] == 'times':\n",
    "        return num_1*func[0]\n",
    "    if func[1] == 'divided':\n",
    "        return num_1//func[0]\n"
   ]
  },
  {
   "cell_type": "code",
   "execution_count": 2,
   "metadata": {},
   "outputs": [
    {
     "data": {
      "text/plain": [
       "81"
      ]
     },
     "execution_count": 2,
     "metadata": {},
     "output_type": "execute_result"
    }
   ],
   "source": [
    "nine(times(nine()))"
   ]
  },
  {
   "cell_type": "code",
   "execution_count": 3,
   "metadata": {},
   "outputs": [],
   "source": [
    "# Solution 2\n",
    "\n",
    "def zero(f = None): return 0 if not f else f(0)\n",
    "def one(f = None): return 1 if not f else f(1)\n",
    "def two(f = None): return 2 if not f else f(2)\n",
    "def three(f = None): return 3 if not f else f(3)\n",
    "def four(f = None): return 4 if not f else f(4)\n",
    "def five(f = None): return 5 if not f else f(5)\n",
    "def six(f = None): return 6 if not f else f(6)\n",
    "def seven(f = None): return 7 if not f else f(7)\n",
    "def eight(f = None): return 8 if not f else f(8)\n",
    "def nine(f = None): return 9 if not f else f(9)\n",
    "\n",
    "def plus(y): return lambda x: x+y\n",
    "def minus(y): return lambda x: x-y\n",
    "def times(y): return lambda  x: x*y\n",
    "def divided_by(y): return lambda  x: x/y"
   ]
  }
 ],
 "metadata": {
  "kernelspec": {
   "display_name": "Python 3.8.0 64-bit",
   "language": "python",
   "name": "python38064bita3e2b9284fe241009277b40c2dcf841c"
  },
  "language_info": {
   "codemirror_mode": {
    "name": "ipython",
    "version": 3
   },
   "file_extension": ".py",
   "mimetype": "text/x-python",
   "name": "python",
   "nbconvert_exporter": "python",
   "pygments_lexer": "ipython3",
   "version": "3.8.0"
  }
 },
 "nbformat": 4,
 "nbformat_minor": 4
}
