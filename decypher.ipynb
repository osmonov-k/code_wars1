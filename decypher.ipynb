{
 "cells": [
  {
   "cell_type": "code",
   "execution_count": 137,
   "metadata": {},
   "outputs": [],
   "source": [
    "def decipher_this(string):\n",
    "    sentence = ''\n",
    "\n",
    "    for word in string.split(' '):\n",
    "        try:\n",
    "            sentence += chr(int(word)) + ' '\n",
    "            \n",
    "        except ValueError:\n",
    "            \n",
    "            num = ''.join(x for x in list(map((lambda x: x if x.isnumeric() == True else ''), word)))\n",
    "            first_letter = chr(int(num))\n",
    "            try: \n",
    "                if word[int(len(num))+1] == word[int(len(num))+1]:\n",
    "                    sentence += f'{first_letter}{word[-1]}{word[int(len(num))+1:-1]}{word[int(len(num))]} '\n",
    "            except:\n",
    "                sentence += f'{first_letter}{word[-1]} '\n",
    "            \n",
    "    return sentence[: -1]"
   ]
  },
  {
   "cell_type": "code",
   "execution_count": null,
   "metadata": {},
   "outputs": [],
   "source": []
  }
 ],
 "metadata": {
  "kernelspec": {
   "display_name": "Python 3.8.0 64-bit",
   "language": "python",
   "name": "python38064bita3e2b9284fe241009277b40c2dcf841c"
  },
  "language_info": {
   "codemirror_mode": {
    "name": "ipython",
    "version": 3
   },
   "file_extension": ".py",
   "mimetype": "text/x-python",
   "name": "python",
   "nbconvert_exporter": "python",
   "pygments_lexer": "ipython3",
   "version": "3.8.0"
  }
 },
 "nbformat": 4,
 "nbformat_minor": 4
}
