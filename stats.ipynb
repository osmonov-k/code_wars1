{
 "cells": [
  {
   "cell_type": "code",
   "execution_count": 150,
   "metadata": {},
   "outputs": [],
   "source": [
    "from datetime import datetime\n",
    "import statistics\n",
    "import math\n",
    "\n",
    "def convert(seconds): \n",
    "    seconds = seconds % (24 * 3600) \n",
    "    hour = seconds // 3600\n",
    "    seconds %= 3600\n",
    "    minutes = seconds // 60\n",
    "    seconds %= 60\n",
    "      \n",
    "    return ('{:0>2.0f}|{:0>2.0f}|{:0>2.0f}').format(hour, minutes, seconds)\n",
    "    \n",
    "def stat(string):\n",
    "    lst_time = []\n",
    "    seconds = []\n",
    "    times = []\n",
    "    try:\n",
    "        # step 1. spliting dates\n",
    "        [lst_time.append(x.replace('|', ':').replace(' ', '')) for x in string.split(',')]\n",
    "        for time_element in lst_time:\n",
    "            times.append(datetime.strptime(time_element, '%H:%M:%S').time())\n",
    "        # step 2. converting time objects into seconds\n",
    "        for i in range(len(times)):\n",
    "            seconds.append((times[i].hour * 60 + times[i].minute) * 60 + times[i].second)\n",
    "        \n",
    "        # step 3. calculating stats\n",
    "        rang = max(seconds) - min(seconds)\n",
    "        mean = sum(seconds)//len(seconds)\n",
    "        median = math.floor(statistics.median(seconds))\n",
    "        \n",
    "        # step 4. converting seconds into time objects\n",
    "        return f\"Range: {convert(rang)} Average: {convert(mean)} Median: {convert(median)}\"\n",
    "    except ValueError:\n",
    "        return f\"\""
   ]
  },
  {
   "cell_type": "code",
   "execution_count": null,
   "metadata": {},
   "outputs": [],
   "source": []
  }
 ],
 "metadata": {
  "kernelspec": {
   "display_name": "Python 3.8.0 64-bit",
   "language": "python",
   "name": "python38064bita3e2b9284fe241009277b40c2dcf841c"
  },
  "language_info": {
   "codemirror_mode": {
    "name": "ipython",
    "version": 3
   },
   "file_extension": ".py",
   "mimetype": "text/x-python",
   "name": "python",
   "nbconvert_exporter": "python",
   "pygments_lexer": "ipython3",
   "version": "3.8.0"
  }
 },
 "nbformat": 4,
 "nbformat_minor": 4
}
