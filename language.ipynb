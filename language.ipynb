{
 "cells": [
  {
   "cell_type": "code",
   "execution_count": 25,
   "metadata": {},
   "outputs": [],
   "source": [
    "def greet(language):\n",
    "    return {'english': 'Welcome',\n",
    "                'czech': 'Vitejte',\n",
    "                'danish': 'Velkomst',\n",
    "                'dutch': 'Welkom',\n",
    "                'estonian': 'Tere tulemast',\n",
    "                'finnish': 'Tervetuloa',\n",
    "                'flemish': 'Welgekomen',\n",
    "                'french': 'Bienvenue',\n",
    "                'german': 'Willkommen',\n",
    "                'irish': 'Failte',\n",
    "                'italian': 'Benvenuto',\n",
    "                'latvian': 'Gaidits',\n",
    "                'lithuanian': 'Laukiamas',\n",
    "                'polish': 'Witamy',\n",
    "                'spanish': 'Bienvenido',\n",
    "                'swedish': 'Valkommen',\n",
    "                'welsh': 'Croeso'}.get(language, 'Welcome')"
   ]
  }
 ],
 "metadata": {
  "kernelspec": {
   "display_name": "Python 3.8.0 64-bit",
   "language": "python",
   "name": "python38064bita3e2b9284fe241009277b40c2dcf841c"
  },
  "language_info": {
   "codemirror_mode": {
    "name": "ipython",
    "version": 3
   },
   "file_extension": ".py",
   "mimetype": "text/x-python",
   "name": "python",
   "nbconvert_exporter": "python",
   "pygments_lexer": "ipython3",
   "version": "3.8.0"
  }
 },
 "nbformat": 4,
 "nbformat_minor": 4
}
