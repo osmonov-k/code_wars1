{
 "cells": [
  {
   "cell_type": "markdown",
   "metadata": {},
   "source": [
    "level up"
   ]
  },
  {
   "cell_type": "code",
   "execution_count": 104,
   "metadata": {},
   "outputs": [],
   "source": [
    "def xp_to_target_lvl(current_xp: int, target_level: int):\n",
    "    import numpy as np\n",
    "    from decimal import Decimal\n",
    "    rate = 0.25\n",
    "    sum_xp = []\n",
    "    try:\n",
    "        if current_xp >= sum(np.floor(314*(1+rate)**(x)) for x in range(target_level-1)):\n",
    "            return print(f'You have already reached level {target_level}.')\n",
    "        else:\n",
    "            for i in range(0, target_level-1):\n",
    "                # Calculate xp of levels and append to list sum_xp\n",
    "                sum_xp.append(np.floor(314*(1+rate)**i))\n",
    "                print('XP from lvl{} to lvl{} and XP: {}'.format(i+1, i+2, np.floor(314*(1+rate)**i)))\n",
    "\n",
    "                # Substract 0.01 from 0.25 every 10 levels\n",
    "                if i%10 == 0 and i != 0 and i < 170: rate -=  Decimal(0.01)\n",
    "\n",
    "            return int(sum(sum_xp) - current_xp)\n",
    "    except TypeError:\n",
    "        return \"Input is invalid.\""
   ]
  },
  {
   "cell_type": "code",
   "execution_count": 105,
   "metadata": {},
   "outputs": [
    {
     "name": "stdout",
     "output_type": "stream",
     "text": [
      "XP from lvl1 to lvl2 and XP: 314.0\n",
      "XP from lvl2 to lvl3 and XP: 392.0\n",
      "XP from lvl3 to lvl4 and XP: 490.0\n",
      "XP from lvl4 to lvl5 and XP: 613.0\n"
     ]
    },
    {
     "data": {
      "text/plain": [
       "1809"
      ]
     },
     "execution_count": 105,
     "metadata": {},
     "output_type": "execute_result"
    }
   ],
   "source": [
    "xp_to_target_lvl(0, 5)"
   ]
  },
  {
   "cell_type": "code",
   "execution_count": null,
   "metadata": {},
   "outputs": [],
   "source": []
  }
 ],
 "metadata": {
  "kernelspec": {
   "display_name": "Python 3.8.0 64-bit",
   "language": "python",
   "name": "python38064bita3e2b9284fe241009277b40c2dcf841c"
  },
  "language_info": {
   "codemirror_mode": {
    "name": "ipython",
    "version": 3
   },
   "file_extension": ".py",
   "mimetype": "text/x-python",
   "name": "python",
   "nbconvert_exporter": "python",
   "pygments_lexer": "ipython3",
   "version": "3.8.0"
  }
 },
 "nbformat": 4,
 "nbformat_minor": 4
}
