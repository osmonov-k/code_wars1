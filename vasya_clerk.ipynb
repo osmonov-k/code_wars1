{
 "cells": [
  {
   "cell_type": "code",
   "execution_count": 1,
   "metadata": {},
   "outputs": [],
   "source": [
    "def tickets(people):\n",
    "    return"
   ]
  },
  {
   "cell_type": "markdown",
   "metadata": {},
   "source": [
    "The new \"Avengers\" movie has just been released! There are a lot of people at the cinema box office standing in a huge line. Each of them has a single 100, 50 or 25 dollar bill. An \"Avengers\" ticket costs 25 dollars.\n",
    "\n",
    "Vasya is currently working as a clerk. He wants to sell a ticket to every single person in this line.\n",
    "\n",
    "Can Vasya sell a ticket to every person and give change if he initially has no money and sells the tickets strictly in the order people queue?\n",
    "\n",
    "Return YES, if Vasya can sell a ticket to every person and give change with the bills he has at hand at that moment. Otherwise return NO."
   ]
  },
  {
   "cell_type": "markdown",
   "metadata": {},
   "source": [
    "- List is passed through iteration and takes remainder to substruct from next person\n",
    "- if we create one more function to calculate change?"
   ]
  },
  {
   "cell_type": "code",
   "execution_count": 89,
   "metadata": {},
   "outputs": [],
   "source": [
    "def tickets(people):\n",
    "    dic_pay = {100:0, 50:0, 25:0}\n",
    "    \n",
    "    for payment in people:\n",
    "        dic_pay[payment] += 1\n",
    "        change = payment - 25\n",
    "        \n",
    "        for bill in (50, 25):\n",
    "            while (bill <= change and dic_pay[bill] > 0):\n",
    "                dic_pay[bill] -= 1\n",
    "                change -= bill\n",
    "                \n",
    "        if change != 0:\n",
    "            return 'NO'\n",
    "    return 'YES'\n"
   ]
  },
  {
   "cell_type": "code",
   "execution_count": 102,
   "metadata": {},
   "outputs": [],
   "source": [
    "def tickets(people):\n",
    "    dic_pay = {50:0, 25:0}\n",
    "    for payment in people:\n",
    "        if payment == 25:\n",
    "            dic_pay[payment] += 1\n",
    "            \n",
    "        elif payment == 50:\n",
    "            dic_pay[25] -= 1\n",
    "            dic_pay[50] += 1\n",
    "            \n",
    "        else:\n",
    "            if dic_pay[50] > 0:\n",
    "                dic_pay[50] -= 1\n",
    "                dic_pay[25] -= 1\n",
    "            else:\n",
    "                dic_pay[25] -= 3\n",
    "                \n",
    "        if dic_pay[25] < 0:\n",
    "            return 'NO'\n",
    "    return 'YES'"
   ]
  },
  {
   "cell_type": "code",
   "execution_count": 101,
   "metadata": {},
   "outputs": [
    {
     "data": {
      "text/plain": [
       "'YES'"
      ]
     },
     "execution_count": 101,
     "metadata": {},
     "output_type": "execute_result"
    }
   ],
   "source": [
    "tickets([25, 50])"
   ]
  }
 ],
 "metadata": {
  "kernelspec": {
   "display_name": "Python 3.8.0 64-bit",
   "language": "python",
   "name": "python38064bita3e2b9284fe241009277b40c2dcf841c"
  },
  "language_info": {
   "codemirror_mode": {
    "name": "ipython",
    "version": 3
   },
   "file_extension": ".py",
   "mimetype": "text/x-python",
   "name": "python",
   "nbconvert_exporter": "python",
   "pygments_lexer": "ipython3",
   "version": "3.8.0"
  }
 },
 "nbformat": 4,
 "nbformat_minor": 4
}
