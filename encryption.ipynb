{
 "cells": [
  {
   "cell_type": "code",
   "execution_count": 33,
   "metadata": {},
   "outputs": [],
   "source": [
    "def encrypt_this(text):\n",
    "    encrypted_text = ''\n",
    "    for x in text.split(' '):\n",
    "\n",
    "        if len(x) > 2:\n",
    "            encrypted_text += ''.join(f'{ord(x[0])}{x[-1]}{x[2:int(len(x)-1)]}{x[1]} ')\n",
    "        elif len(x) == 1:\n",
    "            encrypted_text += ''.join(f'{ord(x[0])} ')\n",
    "        elif len(x) == 2:\n",
    "            encrypted_text += f'{ord(x[0])}{x[1]} '\n",
    "        else:\n",
    "            text += ' '\n",
    "    return encrypted_text[:-1]"
   ]
  },
  {
   "cell_type": "code",
   "execution_count": 32,
   "metadata": {},
   "outputs": [
    {
     "data": {
      "text/plain": [
       "'100saf 100gfsda'"
      ]
     },
     "execution_count": 32,
     "metadata": {},
     "output_type": "execute_result"
    }
   ],
   "source": [
    "encrypt_this('dfas dafsdg')"
   ]
  },
  {
   "cell_type": "code",
   "execution_count": 34,
   "metadata": {},
   "outputs": [],
   "source": [
    "def encrypt_this(text):\n",
    "    encrypted_text = []\n",
    "    \n",
    "    for x in text.split():\n",
    "        \n",
    "        x = list(x)\n",
    "        \n",
    "        x[0] = str(ord(x[0]))\n",
    "        \n",
    "        if len(x) > 2:\n",
    "            \n",
    "            x[1], x[-1] = x[-1], x[1]\n",
    "            \n",
    "        encrypted_text.append(''.join(x))\n",
    "        \n",
    "    return ' '.join(encrypted_text)"
   ]
  },
  {
   "cell_type": "code",
   "execution_count": null,
   "metadata": {},
   "outputs": [],
   "source": []
  }
 ],
 "metadata": {
  "kernelspec": {
   "display_name": "Python 3.8.0 64-bit",
   "language": "python",
   "name": "python38064bita3e2b9284fe241009277b40c2dcf841c"
  },
  "language_info": {
   "codemirror_mode": {
    "name": "ipython",
    "version": 3
   },
   "file_extension": ".py",
   "mimetype": "text/x-python",
   "name": "python",
   "nbconvert_exporter": "python",
   "pygments_lexer": "ipython3",
   "version": "3.8.0"
  }
 },
 "nbformat": 4,
 "nbformat_minor": 4
}
