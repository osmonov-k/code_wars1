{
 "cells": [
  {
   "cell_type": "code",
   "execution_count": 114,
   "metadata": {},
   "outputs": [],
   "source": [
    "from collections import Counter\n",
    "def memesorting(string):\n",
    "    # IT meme\n",
    "    roma = ['b', 'u', 'g']\n",
    "    roma_count = []\n",
    "    # Design meme\n",
    "    danik = ['e', 'd', 'i', 't', 's']\n",
    "    danik_count = []\n",
    "    # Chemistry meme\n",
    "    maxim = ['b', 'o', 'o', 'm']\n",
    "    maxim_count = []\n",
    "    \n",
    "    # lowering letters\n",
    "    string_dict = Counter(string.lower())\n",
    "    \n",
    "    # roma counter\n",
    "    roma_count = [x for x in roma if x in string_dict]\n",
    "    # danik counter\n",
    "    danik_count = [x for x in danik if x in string_dict]\n",
    "    # maxim counter\n",
    "    maxim_count = [x for x in maxim if x in string_dict]\n",
    "    \n",
    "    if roma == roma_count or (roma == roma_count and danik == danik_count):\n",
    "        return 'Roma'\n",
    "    elif danik == danik_count or (danik == danik_count and maxim == maxim_count):\n",
    "        return 'Danik'\n",
    "    elif maxim == maxim_count:\n",
    "        return 'Maxim'\n",
    "    else:\n",
    "        return 'Vlad'"
   ]
  }
 ],
 "metadata": {
  "kernelspec": {
   "display_name": "Python 3.8.0 64-bit",
   "language": "python",
   "name": "python38064bita3e2b9284fe241009277b40c2dcf841c"
  },
  "language_info": {
   "codemirror_mode": {
    "name": "ipython",
    "version": 3
   },
   "file_extension": ".py",
   "mimetype": "text/x-python",
   "name": "python",
   "nbconvert_exporter": "python",
   "pygments_lexer": "ipython3",
   "version": "3.8.0"
  }
 },
 "nbformat": 4,
 "nbformat_minor": 4
}
