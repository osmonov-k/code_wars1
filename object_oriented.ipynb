{
 "cells": [
  {
   "cell_type": "code",
   "execution_count": null,
   "metadata": {},
   "outputs": [],
   "source": [
    "# return boolen in case string is uppercase or not\n",
    "class uppercase:\n",
    "    def is_uppercase(string):\n",
    "        return string.isupper()"
   ]
  },
  {
   "cell_type": "code",
   "execution_count": null,
   "metadata": {},
   "outputs": [],
   "source": [
    "d = uppercase"
   ]
  },
  {
   "cell_type": "code",
   "execution_count": null,
   "metadata": {},
   "outputs": [],
   "source": [
    "d.is_uppercase('DFadf')"
   ]
  },
  {
   "cell_type": "code",
   "execution_count": null,
   "metadata": {},
   "outputs": [],
   "source": [
    "# return class instance\n",
    "class Ball(object):\n",
    "      def __init__(self, type = \"regular\"):\n",
    "            self.ball_type = type"
   ]
  },
  {
   "cell_type": "code",
   "execution_count": null,
   "metadata": {},
   "outputs": [],
   "source": [
    "ball2 = Ball()"
   ]
  },
  {
   "cell_type": "code",
   "execution_count": null,
   "metadata": {},
   "outputs": [],
   "source": [
    "ball2.type_ball"
   ]
  },
  {
   "cell_type": "markdown",
   "metadata": {},
   "source": [
    "#### Declare problem"
   ]
  },
  {
   "cell_type": "code",
   "execution_count": null,
   "metadata": {},
   "outputs": [],
   "source": [
    "class Fighter(object):\n",
    "    def __init__(self, name, health, damage_per_attack):\n",
    "        self.name = name\n",
    "        self.health = health\n",
    "        self.damage_per_attack = damage_per_attack\n",
    "\n",
    "    def __str__(self): return \"Fighter({}, {}, {})\".format(self.name, self.health, self.damage_per_attack)\n",
    "    __repr__=__str__\n",
    "    \n",
    "def declare_winner(Fighter1, Fighter2, first_attacker):\n",
    "    if Fighter1.name == first_attacker:\n",
    "        while Fighter1.health >= 0 and Fighter2.health >= 0:\n",
    "            \n",
    "            Fighter2.health -= Fighter1.damage_per_attack\n",
    "            if Fighter2.health <= 0:\n",
    "                break\n",
    "            Fighter1.health -= Fighter2.damage_per_attack\n",
    "            if Fighter1.health <= 0:\n",
    "                break\n",
    "            \n",
    "\n",
    "        if Fighter1.health > Fighter2.health:\n",
    "            return Fighter1.name\n",
    "        else:\n",
    "            return Fighter2.name\n",
    "        \n",
    "    else:\n",
    "        while Fighter1.health >= 0 and Fighter2.health >= 0:\n",
    "            \n",
    "            Fighter1.health -= Fighter2.damage_per_attack\n",
    "            if Fighter1.health <= 0:\n",
    "                break\n",
    "            Fighter2.health -= Fighter1.damage_per_attack\n",
    "            if Fighter2.health <= 0:\n",
    "                break\n",
    "            \n",
    "        if Fighter1.health > Fighter2.health:\n",
    "            return Fighter1.name\n",
    "        else:\n",
    "            return Fighter2.name"
   ]
  },
  {
   "cell_type": "code",
   "execution_count": null,
   "metadata": {},
   "outputs": [],
   "source": [
    "declare_winner(Fighter(\"Lew\", 10, 2),Fighter(\"Harry\", 5, 4), 'Lew')\n"
   ]
  },
  {
   "cell_type": "code",
   "execution_count": null,
   "metadata": {},
   "outputs": [],
   "source": [
    "def number(lines):\n",
    "    return [(f'{n+1}: {x}') for n, x in enumerate(lines)]"
   ]
  },
  {
   "cell_type": "code",
   "execution_count": null,
   "metadata": {},
   "outputs": [],
   "source": [
    "class number_list:\n",
    "    def number(lines):\n",
    "        return [(f'{n+1}: {x}') for n, x in enumerate(lines)]"
   ]
  },
  {
   "cell_type": "markdown",
   "metadata": {},
   "source": [
    "#### Block problem"
   ]
  },
  {
   "cell_type": "code",
   "execution_count": null,
   "metadata": {},
   "outputs": [],
   "source": [
    "class Block:\n",
    "    \"\"\"Calculating volume and total surface of block figure\"\"\"\n",
    "    def __init__(self, lst):\n",
    "        self.width, self.length, self.height = lst\n",
    "    def get_width(self):\n",
    "        return self.width\n",
    "    def get_length(self):\n",
    "        return self.length\n",
    "\n",
    "    def get_height(self):\n",
    "        return self.height\n",
    "    def get_volume(self):\n",
    "        return self.width*self.length*self.height\n",
    "    def get_surface_area(self):\n",
    "        return 2*(self.width*self.length)+2*(self.width*self.height)+2*(self.heigth*self.length)"
   ]
  },
  {
   "cell_type": "code",
   "execution_count": null,
   "metadata": {},
   "outputs": [],
   "source": [
    "x = Block([2, 2, 2])"
   ]
  },
  {
   "cell_type": "code",
   "execution_count": null,
   "metadata": {},
   "outputs": [],
   "source": [
    "x.get_volume()"
   ]
  },
  {
   "cell_type": "markdown",
   "metadata": {},
   "source": [
    "### Html Generator"
   ]
  },
  {
   "cell_type": "code",
   "execution_count": null,
   "metadata": {},
   "outputs": [],
   "source": [
    "class HTMLGen:\n",
    "    def p(self, string):\n",
    "        return str(f'<p>{string}<p>')\n",
    "    def tab(self, string):\n",
    "        return str(f'<tab>{string}</tab>')\n",
    "    def a(self, string):\n",
    "        return str(f'<a>{string}</a>')\n",
    "    def b(self, string):\n",
    "        return str(f'<b>{string}</b>')\n",
    "    def p (self, string):\n",
    "        return str(f'<p>{string}</p>')\n",
    "    def body (self, string):\n",
    "        return str(f'<body>{string}</body>')\n",
    "    def div (self, string):\n",
    "        return str(f'<div>{string}</div>')\n",
    "    def span (self, string):\n",
    "        return str(f'<span>{string}</span>')\n",
    "    def title (self, string):\n",
    "        return str(f'<title>{string}</title>')\n",
    "    def comment (self, string):\n",
    "        return str(f'<!--{string}-->')"
   ]
  },
  {
   "cell_type": "code",
   "execution_count": null,
   "metadata": {},
   "outputs": [],
   "source": [
    "# solution 2\n",
    "class HTMLGen:\n",
    "    \"\"\"return string in html format\"\"\"\n",
    "    def __init__(self):\n",
    "        self.p = lambda t: self.wrapper('p', t)\n",
    "        self.a = lambda t: self.wrapper('a', t)\n",
    "        self.tab = lambda t: self.wrapper('tab', t)\n",
    "        self.body = lambda t: self.wrapper('body', t)\n",
    "        self.div = lambda t: self.wrapper('div', t)\n",
    "        self.comment = lambda t: self.commenting('<!--', '-->', t)\n",
    "        self.span = lambda t: self.wrapper('span', t)\n",
    "        self.title = lambda t: self.wrapper('title', t)\n",
    "        \n",
    "    def wrapper(self, method, string):\n",
    "        return str(f'<{method}>{string}</{method}>')\n",
    "    def commenting(self, left, right, string):\n",
    "        return str(f'{left}{string}{right}')"
   ]
  },
  {
   "cell_type": "code",
   "execution_count": null,
   "metadata": {},
   "outputs": [],
   "source": [
    "class HTMLGen(object):\n",
    "    def __getattr__(self, name):\n",
    "        def wrapper(text):\n",
    "            if name == \"comment\":\n",
    "                return \"<!--{0}-->\".format(text)\n",
    "            else:\n",
    "                return \"<{0}>{1}</{0}>\".format(name, text)\n",
    "        return wrapper"
   ]
  },
  {
   "cell_type": "code",
   "execution_count": null,
   "metadata": {},
   "outputs": [],
   "source": [
    "g = HTMLGen()"
   ]
  },
  {
   "cell_type": "code",
   "execution_count": null,
   "metadata": {},
   "outputs": [],
   "source": [
    "g.comment('dfd')"
   ]
  },
  {
   "cell_type": "markdown",
   "metadata": {},
   "source": [
    "#### Remove all marked elements in list"
   ]
  },
  {
   "cell_type": "code",
   "execution_count": null,
   "metadata": {},
   "outputs": [],
   "source": [
    "class List:\n",
    "    \"\"\"Remove values of second list in list of first argument\"\"\"\n",
    "    def remove_(self, integer_list, values_list_to_delete):\n",
    "        for remove_element in values_list_to_delete:\n",
    "            while remove_element in integer_list:\n",
    "                integer_list.remove(remove_element)\n",
    "        return integer_list"
   ]
  },
  {
   "cell_type": "code",
   "execution_count": null,
   "metadata": {},
   "outputs": [],
   "source": [
    "class List(object):\n",
    "    def remove_(self, integer_list, values_list):\n",
    "        return [i for i in integer_list if not i in values_list]"
   ]
  },
  {
   "cell_type": "code",
   "execution_count": null,
   "metadata": {},
   "outputs": [],
   "source": [
    "l = List()\n",
    "\n",
    "integer_list =  [1, 1, 2 ,3 ,1 ,2 ,3 ,4]\n",
    "values_list = [1, 3]\n",
    "l.remove_(integer_list, values_list)"
   ]
  },
  {
   "cell_type": "code",
   "execution_count": null,
   "metadata": {},
   "outputs": [],
   "source": [
    "remove_([1, 3, 3, 5, 6], [3])\n"
   ]
  },
  {
   "cell_type": "markdown",
   "metadata": {},
   "source": [
    "### Split the bill"
   ]
  },
  {
   "cell_type": "code",
   "execution_count": null,
   "metadata": {},
   "outputs": [],
   "source": [
    "class pay_owe_bill(object):\n",
    "    def __init__(self, group_dict):\n",
    "        self.group_dict = group_dict\n",
    "        self.total_bill = sum(self.group_dict.values())/len(self.group_dict)\n",
    "        return {key: round(value-self.total_bill, 2) for key, value in dict_bill.group_dict.items()}"
   ]
  },
  {
   "cell_type": "code",
   "execution_count": null,
   "metadata": {},
   "outputs": [],
   "source": [
    "dict_bill = pay_owe_bill({'A': -6421468.75, 'B': -5948771.75, 'C': -6438868.75, 'D': -6301969.75, 'E': 42495717.25, 'F': -4503092.75, 'G': -6441812.75, 'H': -6439732.75})"
   ]
  },
  {
   "cell_type": "code",
   "execution_count": null,
   "metadata": {},
   "outputs": [],
   "source": [
    "def split_the_bill(bill):\n",
    "    total_bill = sum(bill.values())/len(bill)\n",
    "    return {key: round(value-total_bill, 2) for key, value in bill.items()}"
   ]
  },
  {
   "cell_type": "code",
   "execution_count": 1,
   "metadata": {},
   "outputs": [],
   "source": [
    "import scrapy \n",
    "import datetime as dt \n",
    "\n",
    "class kaktus_crawler(scrapy.Spider):\n",
    "\n",
    "\n",
    "\tdef start_requests(self):\n",
    "\t\tself.index=0\n",
    "\n",
    "\t\tdate = dt.date.today().strftime(\"%Y-%m-%d\")\n",
    "\t\tweb = f'https://kaktus.media/?date={date}&lable=8&order=time'\n",
    "\n",
    "\t\tyield scrapy.Request(url=web, callback=self.get_links)\n",
    "\n",
    "\n",
    "\tdef get_links(self, response):\n",
    "\t\tlinks = []\n",
    "\t\txPath = \"/html/body/div[2]/div[6]/div/div/div[1]/ul/li[{}]/div[1]/a/@href\"\n",
    "\t\ti = 1\n",
    "\n",
    "\t\twhile True:\n",
    "\t\t\tlink = response.xpath(xPath.format(i))\n",
    "\t\t\tif link is None:\n",
    "\t\t\t\tbreak\n",
    "\t\t\tlinks.append(link)\n",
    "\t\t\ti+=1\n",
    "\n",
    "\t\tfor link in links:\n",
    "\t\t\tyield scrapy.Request(url=link, callback=self.extract_data)\n",
    "\n",
    "\n",
    "\tdef extract_data(self, response):\n",
    "\t\theader = '//div[1]/div/h1/span/text()'\n",
    "\t\tarticle_body = '//div/div[4]/div[4]/p[{}]/text()'\n",
    "\t\tarticle = []\n",
    "\t\tn=1\n",
    "\n",
    "\t\twhile True:\n",
    "\t\t\tbody = response.xpath(article_body.format(n)).get()\n",
    "\t\t\tif body is None:\n",
    "\t\t\t\tbreak\n",
    "\t\t\tarticle.append(body)\n",
    "\n",
    "\t\tyield {\n",
    "\t\t\t\t'url':response.url,\n",
    "\t\t\t\t'header':response.xpath(header).get(),\n",
    "\t\t\t\t'time':date,\n",
    "\t\t\t\t'topic':\" \".join(art for art in article)\n",
    "\t\t}\n"
   ]
  },
  {
   "cell_type": "code",
   "execution_count": 3,
   "metadata": {},
   "outputs": [
    {
     "ename": "TypeError",
     "evalue": "start_requests() missing 1 required positional argument: 'self'",
     "output_type": "error",
     "traceback": [
      "\u001b[0;31m---------------------------------------------------------------------------\u001b[0m",
      "\u001b[0;31mTypeError\u001b[0m                                 Traceback (most recent call last)",
      "\u001b[0;32m<ipython-input-3-8b3593c01ce5>\u001b[0m in \u001b[0;36m<module>\u001b[0;34m\u001b[0m\n\u001b[0;32m----> 1\u001b[0;31m \u001b[0mkaktus_crawler\u001b[0m\u001b[0;34m.\u001b[0m\u001b[0mstart_requests\u001b[0m\u001b[0;34m(\u001b[0m\u001b[0;34m)\u001b[0m\u001b[0;34m\u001b[0m\u001b[0;34m\u001b[0m\u001b[0m\n\u001b[0m",
      "\u001b[0;31mTypeError\u001b[0m: start_requests() missing 1 required positional argument: 'self'"
     ]
    }
   ],
   "source": [
    "kaktus_crawler."
   ]
  },
  {
   "cell_type": "code",
   "execution_count": null,
   "metadata": {},
   "outputs": [],
   "source": []
  }
 ],
 "metadata": {
  "kernelspec": {
   "display_name": "Python 3.8.0 64-bit",
   "language": "python",
   "name": "python38064bita3e2b9284fe241009277b40c2dcf841c"
  },
  "language_info": {
   "codemirror_mode": {
    "name": "ipython",
    "version": 3
   },
   "file_extension": ".py",
   "mimetype": "text/x-python",
   "name": "python",
   "nbconvert_exporter": "python",
   "pygments_lexer": "ipython3",
   "version": "3.8.0"
  }
 },
 "nbformat": 4,
 "nbformat_minor": 4
}
