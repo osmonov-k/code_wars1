{
 "cells": [
  {
   "cell_type": "code",
   "execution_count": 2,
   "metadata": {},
   "outputs": [],
   "source": [
    "import pandas as pd\n",
    "from bs4 import BeautifulSoup as bs\n",
    "from urllib.request import Request, urlopen\n",
    "import requests"
   ]
  },
  {
   "cell_type": "code",
   "execution_count": 3,
   "metadata": {},
   "outputs": [],
   "source": [
    "# url = 'https://www.codewars.com/kata/5a5032f4fd56cb958e00007a/train/python'\n",
    "# file = requests.get(url)\n",
    "# soup = bs(file.content, 'html.parser')\n",
    "# soup.prettify()"
   ]
  },
  {
   "cell_type": "code",
   "execution_count": null,
   "metadata": {},
   "outputs": [],
   "source": [
    "# Create list of remote control\n",
    "import re\n",
    "\n",
    "string = '<tbody><tr><td>a</td><td>b</td><td>c</td><td>d</td><td>e</td><td>1</td><td>2</td><td>3</td></tr> \\\n",
    "<tr><td>f</td><td>g</td><td>h</td><td>i</td><td>j</td><td>4</td><td>5</td><td>6</td></tr> \\\n",
    "<tr><td>k</td><td>l</td><td>m</td><td>n</td><td>o</td><td>7</td><td>8</td><td>9</td></tr> \\\n",
    "<tr><td>p</td><td>q</td><td>r</td><td>s</td><td>t</td><td>.</td><td>@</td><td>0</td></tr> \\\n",
    "<tr><td>u</td><td>v</td><td>w</td><td>x</td><td>y</td><td>z</td><td>_</td><td>/</td></tr> \\\n",
    "</tbody>'\n",
    "\n",
    "pattern = re.compile('[\\w\\s\\W](?=</td>)')\n",
    "re.findall(pattern, string)"
   ]
  },
  {
   "cell_type": "code",
   "execution_count": 6,
   "metadata": {},
   "outputs": [
    {
     "data": {
      "text/plain": [
       "[(0, 2), (1, 1), (2, 2)]"
      ]
     },
     "execution_count": 6,
     "metadata": {},
     "output_type": "execute_result"
    }
   ],
   "source": [
    "mymatrix=[[1,2,9],[4,9,6],[7,8,9]]\n",
    "val = 9\n",
    "[(index, row.index(val)) for index, row in enumerate(mymatrix) if val in row]"
   ]
  },
  {
   "cell_type": "code",
   "execution_count": 5,
   "metadata": {},
   "outputs": [],
   "source": [
    "def tv_remote(word):\n",
    "    remote = [['a', 'b', 'c', 'd', 'e', '1', '2', '3'],\n",
    "             ['f', 'g', 'h', 'i', 'j', '4', '5', '6'],\n",
    "             ['k', 'l', 'm', 'n', 'o', '7', '8', '9'],\n",
    "             ['p', 'q', 'r', 's', 't', '.', '@', '0'],\n",
    "             ['u', 'v', 'w', 'x', 'y', 'z', '_', '/']]\n",
    "    lst = []\n",
    "    \n",
    "    previuos_key = [[index, row.index(word[0])] for index, row in enumerate(remote) if word[0] in row]\n",
    "    lst.append(abs(previuos_key[0][0] - 0) + abs(previuos_key[0][1] - 0)+1)\n",
    "    \n",
    "    for x in word:\n",
    "        current_key = [[index, row.index(x)] for index, row in enumerate(remote) if x in row]\n",
    "        lst.append(abs(current_key[0][0] - previuos_key[0][0]) + abs(current_key[0][1] - previuos_key[0][1])+1)\n",
    "        previuos_key = [[index, row.index(x)] for index, row in enumerate(remote) if x in row]\n",
    "    return sum(lst)"
   ]
  },
  {
   "cell_type": "code",
   "execution_count": 23,
   "metadata": {},
   "outputs": [
    {
     "data": {
      "text/plain": [
       "25"
      ]
     },
     "execution_count": 23,
     "metadata": {},
     "output_type": "execute_result"
    }
   ],
   "source": [
    "tv_remote('words')"
   ]
  },
  {
   "cell_type": "code",
   "execution_count": 24,
   "metadata": {},
   "outputs": [],
   "source": [
    "# solution 2\n",
    "KEYBOARD = \"abcde123fghij456klmno789pqrst.@0uvwxyz_/\"\n",
    "MAP      = {c: (i//8, i%8) for i,c in enumerate(KEYBOARD)}\n",
    "\n",
    "def manhattan(*pts): return sum( abs(z2-z1) for z1,z2 in zip(*pts))\n",
    "\n",
    "def tv_remote(word):\n",
    "    return len(word) + sum( manhattan(MAP[was], MAP[curr]) for was,curr in zip('a'+word, word))"
   ]
  }
 ],
 "metadata": {
  "kernelspec": {
   "display_name": "Python 3.8.0 64-bit",
   "language": "python",
   "name": "python38064bita3e2b9284fe241009277b40c2dcf841c"
  },
  "language_info": {
   "codemirror_mode": {
    "name": "ipython",
    "version": 3
   },
   "file_extension": ".py",
   "mimetype": "text/x-python",
   "name": "python",
   "nbconvert_exporter": "python",
   "pygments_lexer": "ipython3",
   "version": "3.8.0"
  }
 },
 "nbformat": 4,
 "nbformat_minor": 4
}
