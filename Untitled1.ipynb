{
 "cells": [
  {
   "cell_type": "code",
   "execution_count": 1,
   "metadata": {},
   "outputs": [],
   "source": [
    "from datetime import datetime\n"
   ]
  },
  {
   "cell_type": "code",
   "execution_count": 2,
   "metadata": {},
   "outputs": [
    {
     "data": {
      "text/plain": [
       "'19 июня 2020, Бишкекское время 12:05'"
      ]
     },
     "execution_count": 2,
     "metadata": {},
     "output_type": "execute_result"
    }
   ],
   "source": [
    "d, m, y, un, un_2, hh = '19 июня 2020, Бишкекское время 12:05'.split()"
   ]
  },
  {
   "cell_type": "code",
   "execution_count": 4,
   "metadata": {},
   "outputs": [],
   "source": [
    "d, m, y, hm = '19 июня 2020, Бишкекское время 12:05'.replace(', Бишкекское время', '').split()"
   ]
  },
  {
   "cell_type": "code",
   "execution_count": 21,
   "metadata": {},
   "outputs": [],
   "source": [
    "months = {'января': 1,\n",
    "          'февраля': 2,\n",
    "          'марта': 3,\n",
    "          'апреля': 4,\n",
    "          'мая': 5,\n",
    "          'июня': 6,\n",
    "          'июля': 7,\n",
    "         'августа': 8,\n",
    "         'сентября': 9,\n",
    "         'октярбря': 10,\n",
    "         'ноября': 11,\n",
    "         'декабря': 12}"
   ]
  },
  {
   "cell_type": "code",
   "execution_count": 22,
   "metadata": {},
   "outputs": [],
   "source": [
    "time = datetime.strptime(f'{y}-{months[m]}-{d} {hm}', '%Y-%m-%d %H:%M')"
   ]
  },
  {
   "cell_type": "code",
   "execution_count": 23,
   "metadata": {},
   "outputs": [
    {
     "data": {
      "text/plain": [
       "datetime.datetime(2020, 6, 19, 23, 50)"
      ]
     },
     "execution_count": 23,
     "metadata": {},
     "output_type": "execute_result"
    }
   ],
   "source": [
    "time"
   ]
  },
  {
   "cell_type": "code",
   "execution_count": null,
   "metadata": {},
   "outputs": [],
   "source": [
    "inks = []\n",
    "base_link = 'https://rus.azattyk.org'\n",
    "# first article\n",
    "links.append(base_link+response.xpath('/html/body/div[1]/div/div[4]/div/div/div/div/div[1]/div[2]/div/ul[1]/li/div/a/@href').extract()[0])\n",
    "\n",
    "hrefs = response.xpath('/html/body/div[1]/div/div[4]/div/div/div/div/div[1]/div[2]/div[1]/ul/li/div/div/a/@href').extract()\n",
    "for href in hrefs:\n",
    "    links.append(base_link+href)\n",
    "for link in links:\n",
    "    yield scrapy.Request(url=link, callback=self.parse_data)"
   ]
  },
  {
   "cell_type": "code",
   "execution_count": 59,
   "metadata": {},
   "outputs": [],
   "source": [
    "import re\n",
    "\n",
    "from datetime import timedelta\n",
    "\n",
    "if re.search(r'минут', '14 минут(ы) назад'):\n",
    "    mins = re.findall(r'\\w+', '14 минут(ы) назад')\n",
    "    date = datetime.now() - timedelta(minutes=int(mins[0]))"
   ]
  },
  {
   "cell_type": "code",
   "execution_count": 61,
   "metadata": {},
   "outputs": [
    {
     "data": {
      "text/plain": [
       "datetime.datetime(2020, 6, 19, 13, 23, 51, 799615)"
      ]
     },
     "execution_count": 61,
     "metadata": {},
     "output_type": "execute_result"
    }
   ],
   "source": [
    "date"
   ]
  },
  {
   "cell_type": "code",
   "execution_count": null,
   "metadata": {},
   "outputs": [],
   "source": [
    "months = {'января': 1,\n",
    "          'февраля': 2,\n",
    "          'марта': 3,\n",
    "          'апреля': 4,\n",
    "          'мая': 5,\n",
    "          'июня': 6,\n",
    "          'июля': 7,\n",
    "         'августа': 8,\n",
    "         'сентября': 9,\n",
    "         'октярбря': 10,\n",
    "         'ноября': 11,\n",
    "         'декабря': 12}\n",
    "\n",
    " # parsing date and time\n",
    "date_time = response.xpath('//*[@id=\"content\"]/div[1]/div[1]/div/div[3]/div/div/span/time/text()').get().strip()\n",
    "\n",
    "if re.search(r'минут(ы)', date_time):\n",
    "    mins = re.findall(r'\\w+', date_time)\n",
    "    date = datetime.now() - timedelta(minutes=int(mins[0]))\n",
    "elif re.search(r'часа(-ов)', date_time):\n",
    "    hours = re.findall(r'\\w+', date_time)\n",
    "    date = datetime.now() - timedelta(hours=int(hours[0]))\n",
    "else:\n",
    "    m, d, y = date_time.split()\n",
    "    date = datetime.strptime(f'{y}-{months[m]}{d}','%Y-%m-%d')"
   ]
  },
  {
   "cell_type": "code",
   "execution_count": 63,
   "metadata": {},
   "outputs": [],
   "source": [
    "lst = ['9\\xa0comments',\n",
    " '19\\xa0comments',\n",
    " '227\\xa0comments',\n",
    " '17\\xa0comments',\n",
    " '47\\xa0comments',\n",
    " '17\\xa0comments',\n",
    " '69\\xa0comments',\n",
    " '438\\xa0comments',\n",
    " '9\\xa0comments',\n",
    " '30\\xa0comments',\n",
    " '28\\xa0comments',\n",
    " '24\\xa0comments',\n",
    " 'discuss',\n",
    " 'discuss',\n",
    " '36\\xa0comments',\n",
    " '17\\xa0comments',\n",
    " '17\\xa0comments',\n",
    " '1\\xa0comment',\n",
    " '284\\xa0comments',\n",
    " '22\\xa0comments',\n",
    " '14\\xa0comments',\n",
    " '3\\xa0comments',\n",
    " '5\\xa0comments',\n",
    " '2\\xa0comments',\n",
    " '306\\xa0comments',\n",
    " '282\\xa0comments',\n",
    " 'discuss',\n",
    " '196\\xa0comments',\n",
    " '284\\xa0comments',\n",
    " '232\\xa0comments']"
   ]
  },
  {
   "cell_type": "code",
   "execution_count": 70,
   "metadata": {},
   "outputs": [
    {
     "data": {
      "text/plain": [
       "[9,\n",
       " 19,\n",
       " 227,\n",
       " 17,\n",
       " 47,\n",
       " 17,\n",
       " 69,\n",
       " 438,\n",
       " 9,\n",
       " 30,\n",
       " 28,\n",
       " 24,\n",
       " 0,\n",
       " 0,\n",
       " 36,\n",
       " 17,\n",
       " 17,\n",
       " 0,\n",
       " 284,\n",
       " 22,\n",
       " 14,\n",
       " 3,\n",
       " 5,\n",
       " 2,\n",
       " 306,\n",
       " 282,\n",
       " 0,\n",
       " 196,\n",
       " 284,\n",
       " 232]"
      ]
     },
     "execution_count": 70,
     "metadata": {},
     "output_type": "execute_result"
    }
   ],
   "source": [
    "list(map(lambda x: int(x.replace('\\xa0comments','')) if x != 'discuss' and x != '1\\xa0comment' else 0, lst))"
   ]
  },
  {
   "cell_type": "code",
   "execution_count": null,
   "metadata": {},
   "outputs": [],
   "source": []
  }
 ],
 "metadata": {
  "kernelspec": {
   "display_name": "Python 3",
   "language": "python",
   "name": "python3"
  },
  "language_info": {
   "codemirror_mode": {
    "name": "ipython",
    "version": 3
   },
   "file_extension": ".py",
   "mimetype": "text/x-python",
   "name": "python",
   "nbconvert_exporter": "python",
   "pygments_lexer": "ipython3",
   "version": "3.7.6"
  }
 },
 "nbformat": 4,
 "nbformat_minor": 4
}
