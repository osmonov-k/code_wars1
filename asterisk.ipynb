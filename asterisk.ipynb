{
 "cells": [
  {
   "cell_type": "code",
   "execution_count": 195,
   "metadata": {},
   "outputs": [],
   "source": [
    "# kyu 7\n",
    "\n",
    "def asterisk(n):\n",
    "    \"\"\"inserting asterisk sign '*' between odd number into given list, string or consective sequence of numbers\"\"\"\n",
    "    seq_num = ''\n",
    "    if isinstance(n, int):\n",
    "        n = str(n)\n",
    "        try:\n",
    "            for pos in range(len(n)):\n",
    "                if int(n[pos])%2==0 and int(n[pos+1])%2==0:\n",
    "                    seq_num += (n[pos]+'*')\n",
    "                else:\n",
    "                    seq_num += (n[pos])\n",
    "        except IndexError:\n",
    "            seq_num+=(n[pos])\n",
    "    else:\n",
    "        n = ''.join(map(str, n))\n",
    "        try:\n",
    "            for pos in range(len(n)):\n",
    "                if int(n[pos])%2==0 and int(n[pos+1])%2==0:\n",
    "                    seq_num += (n[pos]+'*')\n",
    "                else:\n",
    "                    seq_num += (n[pos])\n",
    "        except IndexError:\n",
    "            seq_num+=(n[pos])\n",
    "    return seq_num\n",
    "        "
   ]
  },
  {
   "cell_type": "code",
   "execution_count": 194,
   "metadata": {},
   "outputs": [],
   "source": [
    "n = [1, 4, 64, 68, 67, 23, 1]"
   ]
  },
  {
   "cell_type": "code",
   "execution_count": 184,
   "metadata": {},
   "outputs": [],
   "source": [
    "seq_num = ''\n",
    "\n",
    "try:\n",
    "    for pos in range(len(n)):\n",
    "        if int(n[pos])%2==0 and int(n[pos+1])%2==0:\n",
    "            seq_num += (str(n[pos])+'*')\n",
    "        else:\n",
    "            seq_num += str(n[pos])\n",
    "except IndexError:\n",
    "    seq_num+=(n[pos])"
   ]
  },
  {
   "cell_type": "code",
   "execution_count": 191,
   "metadata": {},
   "outputs": [
    {
     "data": {
      "text/plain": [
       "'4543'"
      ]
     },
     "execution_count": 191,
     "metadata": {},
     "output_type": "execute_result"
    }
   ],
   "source": [
    "''.join(map(str, '4543'))\n",
    "        "
   ]
  },
  {
   "cell_type": "code",
   "execution_count": null,
   "metadata": {},
   "outputs": [],
   "source": []
  }
 ],
 "metadata": {
  "kernelspec": {
   "display_name": "Python 3.8.0 64-bit",
   "language": "python",
   "name": "python38064bita3e2b9284fe241009277b40c2dcf841c"
  },
  "language_info": {
   "codemirror_mode": {
    "name": "ipython",
    "version": 3
   },
   "file_extension": ".py",
   "mimetype": "text/x-python",
   "name": "python",
   "nbconvert_exporter": "python",
   "pygments_lexer": "ipython3",
   "version": "3.8.0"
  }
 },
 "nbformat": 4,
 "nbformat_minor": 4
}
