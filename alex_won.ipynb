{
 "cells": [
  {
   "cell_type": "code",
   "execution_count": 38,
   "metadata": {},
   "outputs": [],
   "source": [
    "def frame(score):\n",
    "    import re\n",
    "    \n",
    "    player_1 = []\n",
    "    player_2 = []\n",
    "    pattern = re.compile(r'(\\w+)\\(')\n",
    "\n",
    "    # spliting games\n",
    "    for game in string.split('; '):\n",
    "        # spliting game into players points\n",
    "        game_1, game_2 = game.split('-')\n",
    "        # Regex points\n",
    "        point_game_1 = int(re.findall(pattern, game_1)[0]) if re.findall(pattern, game_1) else int(game_1)\n",
    "        point_game_2 = int(re.findall(pattern, game_2)[0]) if re.findall(pattern, game_2) else int(game_2)\n",
    "        # Append point to winner\n",
    "        player_1.append(1) if point_game_1 > point_game_2 else player_2.append(1)\n",
    "\n",
    "    return [sum(player_1), sum(player_2)]\n",
    "        \n",
    "    "
   ]
  },
  {
   "cell_type": "code",
   "execution_count": 35,
   "metadata": {},
   "outputs": [],
   "source": [
    "import re\n",
    "\n",
    "def frame(score):\n",
    "    frames = [0, 0]\n",
    "    for s1,_,s2 in re.findall(r'(\\d+)(\\([\\d,]+\\))?-(\\d+)', score):\n",
    "        frames[ int(s1) < int(s2) ] += 1\n",
    "    return frames"
   ]
  },
  {
   "cell_type": "code",
   "execution_count": 36,
   "metadata": {},
   "outputs": [
    {
     "name": "stdout",
     "output_type": "stream",
     "text": [
      "24.4 µs ± 3.31 µs per loop (mean ± std. dev. of 7 runs, 10000 loops each)\n"
     ]
    }
   ],
   "source": [
    "%timeit frame(string)"
   ]
  },
  {
   "cell_type": "code",
   "execution_count": 40,
   "metadata": {},
   "outputs": [
    {
     "name": "stdout",
     "output_type": "stream",
     "text": [
      "101 µs ± 9.18 µs per loop (mean ± std. dev. of 7 runs, 10000 loops each)\n"
     ]
    }
   ],
   "source": [
    "%timeit frame(string)"
   ]
  },
  {
   "cell_type": "code",
   "execution_count": null,
   "metadata": {},
   "outputs": [],
   "source": []
  }
 ],
 "metadata": {
  "kernelspec": {
   "display_name": "Python 3.8.0 64-bit",
   "language": "python",
   "name": "python38064bita3e2b9284fe241009277b40c2dcf841c"
  },
  "language_info": {
   "codemirror_mode": {
    "name": "ipython",
    "version": 3
   },
   "file_extension": ".py",
   "mimetype": "text/x-python",
   "name": "python",
   "nbconvert_exporter": "python",
   "pygments_lexer": "ipython3",
   "version": "3.8.0"
  }
 },
 "nbformat": 4,
 "nbformat_minor": 4
}
